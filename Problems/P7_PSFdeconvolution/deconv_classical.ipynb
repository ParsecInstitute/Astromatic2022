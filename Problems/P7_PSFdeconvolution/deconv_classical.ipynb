{
 "cells": [
  {
   "cell_type": "markdown",
   "id": "121e882e-ffd8-42fc-aa81-4e29b47fe410",
   "metadata": {},
   "source": [
    "# Problem 7 : PSF Deconvolution with Neural Networks - Classical Solutions\n",
    "In this notebook, we will demonstrate the application of two algorithms to the problem of PSF deconvolution, "
   ]
  }
 ],
 "metadata": {
  "kernelspec": {
   "display_name": "Python 3",
   "language": "python",
   "name": "python3"
  },
  "language_info": {
   "codemirror_mode": {
    "name": "ipython",
    "version": 3
   },
   "file_extension": ".py",
   "mimetype": "text/x-python",
   "name": "python",
   "nbconvert_exporter": "python",
   "pygments_lexer": "ipython3",
   "version": "3.8.13"
  }
 },
 "nbformat": 4,
 "nbformat_minor": 5
}
